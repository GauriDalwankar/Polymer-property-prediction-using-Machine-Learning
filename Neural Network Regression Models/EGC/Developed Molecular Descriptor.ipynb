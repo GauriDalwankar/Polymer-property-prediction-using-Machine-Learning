{
 "cells": [
  {
   "cell_type": "code",
   "execution_count": 1,
   "id": "f28e103e",
   "metadata": {},
   "outputs": [],
   "source": [
    "import numpy as np\n",
    "import matplotlib.pyplot as plt\n",
    "import pandas as pd\n",
    "\n",
    "from sklearn.model_selection import cross_val_score,train_test_split\n",
    "from sklearn.metrics import r2_score,mean_absolute_error, mean_squared_error\n",
    "from sklearn.preprocessing import StandardScaler\n",
    "#----------------------------------------------------\n",
    "from matplotlib import pyplot as plt\n",
    "import matplotlib.patches as mpatches\n",
    "import seaborn as sn\n",
    "from sklearn.gaussian_process import GaussianProcessRegressor\n",
    "from sklearn.neural_network import MLPRegressor\n",
    "from sklearn.model_selection import cross_val_score\n",
    "from sklearn.linear_model import BayesianRidge\n",
    "from scipy import stats\n",
    "from sklearn.model_selection import GridSearchCV\n",
    "import warnings\n",
    "warnings.filterwarnings('ignore')"
   ]
  },
  {
   "cell_type": "code",
   "execution_count": 2,
   "id": "d7004dc1",
   "metadata": {},
   "outputs": [
    {
     "data": {
      "text/html": [
       "<div>\n",
       "<style scoped>\n",
       "    .dataframe tbody tr th:only-of-type {\n",
       "        vertical-align: middle;\n",
       "    }\n",
       "\n",
       "    .dataframe tbody tr th {\n",
       "        vertical-align: top;\n",
       "    }\n",
       "\n",
       "    .dataframe thead th {\n",
       "        text-align: right;\n",
       "    }\n",
       "</style>\n",
       "<table border=\"1\" class=\"dataframe\">\n",
       "  <thead>\n",
       "    <tr style=\"text-align: right;\">\n",
       "      <th></th>\n",
       "      <th>smiles</th>\n",
       "      <th>property</th>\n",
       "      <th>value</th>\n",
       "    </tr>\n",
       "  </thead>\n",
       "  <tbody>\n",
       "    <tr>\n",
       "      <th>0</th>\n",
       "      <td>[*]CC([*])C</td>\n",
       "      <td>Eat</td>\n",
       "      <td>-5.14</td>\n",
       "    </tr>\n",
       "    <tr>\n",
       "      <th>1</th>\n",
       "      <td>[*]CC([*])F</td>\n",
       "      <td>Eat</td>\n",
       "      <td>-5.18</td>\n",
       "    </tr>\n",
       "    <tr>\n",
       "      <th>2</th>\n",
       "      <td>[*]CC([*])(F)F</td>\n",
       "      <td>Eat</td>\n",
       "      <td>-5.21</td>\n",
       "    </tr>\n",
       "    <tr>\n",
       "      <th>3</th>\n",
       "      <td>[*]C(F)C([*])(F)F</td>\n",
       "      <td>Eat</td>\n",
       "      <td>-5.11</td>\n",
       "    </tr>\n",
       "    <tr>\n",
       "      <th>4</th>\n",
       "      <td>[*]CCC(F)(F)C([*])(F)F</td>\n",
       "      <td>Eat</td>\n",
       "      <td>-5.21</td>\n",
       "    </tr>\n",
       "    <tr>\n",
       "      <th>...</th>\n",
       "      <td>...</td>\n",
       "      <td>...</td>\n",
       "      <td>...</td>\n",
       "    </tr>\n",
       "    <tr>\n",
       "      <th>6260</th>\n",
       "      <td>[*]C(F)(F)C(F)(F)C(S1)=CC=C1C(S2)=CC=C2[*]</td>\n",
       "      <td>eps</td>\n",
       "      <td>4.36</td>\n",
       "    </tr>\n",
       "    <tr>\n",
       "      <th>6261</th>\n",
       "      <td>[*]C(F)(F)C(F)(F)C(=O)O[*]</td>\n",
       "      <td>eps</td>\n",
       "      <td>3.31</td>\n",
       "    </tr>\n",
       "    <tr>\n",
       "      <th>6262</th>\n",
       "      <td>[*]C(F)(F)C(=O)C(F)(F)C(S1)=CC=C1[*]</td>\n",
       "      <td>eps</td>\n",
       "      <td>4.05</td>\n",
       "    </tr>\n",
       "    <tr>\n",
       "      <th>6263</th>\n",
       "      <td>[*]C(F)(F)C(=O)C(F)(F)C(C=C1)=CC=C1[*]</td>\n",
       "      <td>eps</td>\n",
       "      <td>3.57</td>\n",
       "    </tr>\n",
       "    <tr>\n",
       "      <th>6264</th>\n",
       "      <td>[*]C(F)(F)OC(F)(F)O[*]</td>\n",
       "      <td>eps</td>\n",
       "      <td>3.80</td>\n",
       "    </tr>\n",
       "  </tbody>\n",
       "</table>\n",
       "<p>6265 rows × 3 columns</p>\n",
       "</div>"
      ],
      "text/plain": [
       "                                          smiles property  value\n",
       "0                                    [*]CC([*])C      Eat  -5.14\n",
       "1                                    [*]CC([*])F      Eat  -5.18\n",
       "2                                 [*]CC([*])(F)F      Eat  -5.21\n",
       "3                              [*]C(F)C([*])(F)F      Eat  -5.11\n",
       "4                         [*]CCC(F)(F)C([*])(F)F      Eat  -5.21\n",
       "...                                          ...      ...    ...\n",
       "6260  [*]C(F)(F)C(F)(F)C(S1)=CC=C1C(S2)=CC=C2[*]      eps   4.36\n",
       "6261                  [*]C(F)(F)C(F)(F)C(=O)O[*]      eps   3.31\n",
       "6262        [*]C(F)(F)C(=O)C(F)(F)C(S1)=CC=C1[*]      eps   4.05\n",
       "6263      [*]C(F)(F)C(=O)C(F)(F)C(C=C1)=CC=C1[*]      eps   3.57\n",
       "6264                      [*]C(F)(F)OC(F)(F)O[*]      eps   3.80\n",
       "\n",
       "[6265 rows x 3 columns]"
      ]
     },
     "execution_count": 2,
     "metadata": {},
     "output_type": "execute_result"
    }
   ],
   "source": [
    "df = pd.read_csv(\"export.csv\")\n",
    "df\n"
   ]
  },
  {
   "cell_type": "code",
   "execution_count": 3,
   "id": "bf8008d4",
   "metadata": {},
   "outputs": [],
   "source": [
    "list1 = df.iloc[824:4203,0].tolist()\n",
    "list2 = [\"C\", \"O\", \"c\", \"F\", \"N\", \"Br\", \"S\"]"
   ]
  },
  {
   "cell_type": "code",
   "execution_count": 4,
   "id": "2577a221",
   "metadata": {},
   "outputs": [],
   "source": [
    "def atommass(a):\n",
    "    mass = {\"C\": 12, \"O\": 16, \"F\": 18, \"N\": 14, \"S\": 32, \"Br\": 80, \"c\": 12}\n",
    "    for items, value in mass.items():\n",
    "        if a == items:\n",
    "            z = value\n",
    "            break\n",
    "        else:\n",
    "            z = 0\n",
    "    return z\n",
    "\n",
    "def atomno(a):\n",
    "    num = {\"C\": 6, \"O\": 8, \"F\": 9, \"N\": 7, \"S\": 16, \"Br\": 35, \"c\": 6}\n",
    "    for items, value in num.items():\n",
    "        if a == items:\n",
    "            z = value\n",
    "            break\n",
    "        else:\n",
    "            z = 0\n",
    "    return z\n",
    "\n",
    "def valency(a):\n",
    "    val = {\"C\": 4, \"O\": 2, \"F\": 1, \"N\": 3, \"S\": 2, \"Br\": 1, \"c\": 4}\n",
    "    for items, value in val.items():\n",
    "        if a == items:\n",
    "            z = value\n",
    "            break\n",
    "        else:\n",
    "            z = 0\n",
    "    return z\n",
    "\n",
    "def hydrogen(smile):\n",
    "    if smile[0] == \"=\" or smile[2] == \"=\" :\n",
    "        H = 1\n",
    "    elif smile[0] == \"=\" and smile[2] == \"=\":\n",
    "        H = 0\n",
    "    else:\n",
    "        H = 2\n",
    "    return H\n",
    "\n",
    "def endhydrogen(smile):\n",
    "    if smile[0] == \"=\":\n",
    "        H = 2\n",
    "    else:\n",
    "        H = 3\n",
    "    return H"
   ]
  },
  {
   "cell_type": "code",
   "execution_count": 5,
   "id": "88cfb89b",
   "metadata": {},
   "outputs": [],
   "source": [
    "identifier = []\n",
    "A=[]\n",
    "Aupdated =[]\n",
    "for i in range(len(list1)):\n",
    "    orderno = []\n",
    "    B = []\n",
    "    for j in range(3, len(list1[i])):\n",
    "        if list1[i][j] in list2:\n",
    "            mass = atommass(list1[i][j])\n",
    "            num = atomno(list1[i][j])\n",
    "            val = valency(list1[i][j])\n",
    "            if j != 3 and j != (len(list1[i])-1):\n",
    "                smiles = list1[i][j-1] + list1[i][j] + list1[i][j+1]\n",
    "                H = hydrogen(smiles)\n",
    "            else:\n",
    "                if j == 3:\n",
    "                    smiles = list1[i][j] + list1[i][j+1]\n",
    "                else:\n",
    "                    smiles = list1[i][j-1] + list1[i][j]\n",
    "                H = endhydrogen(smiles)\n",
    "            idno = hash((mass, num, val, H))\n",
    "            B.append(idno)\n",
    "        if list1[i][j] == \"=\":\n",
    "            orderno.append(j)\n",
    "\n",
    "    upB = B\n",
    "    for iteration in range(2): \n",
    "        update = []\n",
    "        for k in range(len(upB)-1):\n",
    "            Q = []\n",
    "            if k == 0:\n",
    "                if list1[i][4]== \"=\":\n",
    "                    g = 2\n",
    "                else:\n",
    "                    g = 1 \n",
    "                Q = [iteration + 1 , upB[k]] + [g, upB[k+1]]\n",
    "            elif k != len(B) -1:\n",
    "                \n",
    "                Q = [iteration + 1 , upB[k]] + [1, upB[k-1]] + [1, upB[k+1]]\n",
    "            else:\n",
    "                Q = [iteration + 1 , upB[k]] + [1, upB[k-1]]  \n",
    "            update.append(hash(tuple(Q)))\n",
    "        upB = update\n",
    "    A.append(B)\n",
    "    Aupdated.append(upB)"
   ]
  },
  {
   "cell_type": "code",
   "execution_count": 6,
   "id": "fb8af45a",
   "metadata": {},
   "outputs": [],
   "source": [
    "fingerprint=[]\n",
    "for i in range(len(Aupdated)):         \n",
    "    fp = np.zeros(1024)\n",
    "    remainder = []\n",
    "    for j in range(len(Aupdated[i])):\n",
    "        remainder.append(Aupdated[i][j] % 1024)\n",
    "    for x in remainder:\n",
    "        fp[x] = 1\n",
    "    fingerprint.append(fp)"
   ]
  },
  {
   "cell_type": "code",
   "execution_count": 7,
   "id": "9d6d1eef",
   "metadata": {},
   "outputs": [],
   "source": [
    "dfnew = pd.DataFrame(fingerprint)"
   ]
  },
  {
   "cell_type": "code",
   "execution_count": 8,
   "id": "dc35970c",
   "metadata": {},
   "outputs": [],
   "source": [
    "y = df.iloc[824:4203,:].value\n",
    "x= dfnew"
   ]
  },
  {
   "cell_type": "code",
   "execution_count": 9,
   "id": "a715a4a9",
   "metadata": {},
   "outputs": [
    {
     "data": {
      "text/html": [
       "<div>\n",
       "<style scoped>\n",
       "    .dataframe tbody tr th:only-of-type {\n",
       "        vertical-align: middle;\n",
       "    }\n",
       "\n",
       "    .dataframe tbody tr th {\n",
       "        vertical-align: top;\n",
       "    }\n",
       "\n",
       "    .dataframe thead th {\n",
       "        text-align: right;\n",
       "    }\n",
       "</style>\n",
       "<table border=\"1\" class=\"dataframe\">\n",
       "  <thead>\n",
       "    <tr style=\"text-align: right;\">\n",
       "      <th></th>\n",
       "      <th>0</th>\n",
       "      <th>1</th>\n",
       "      <th>2</th>\n",
       "      <th>3</th>\n",
       "      <th>4</th>\n",
       "      <th>5</th>\n",
       "      <th>6</th>\n",
       "      <th>7</th>\n",
       "      <th>8</th>\n",
       "      <th>9</th>\n",
       "      <th>...</th>\n",
       "      <th>1015</th>\n",
       "      <th>1016</th>\n",
       "      <th>1017</th>\n",
       "      <th>1018</th>\n",
       "      <th>1019</th>\n",
       "      <th>1020</th>\n",
       "      <th>1021</th>\n",
       "      <th>1022</th>\n",
       "      <th>1023</th>\n",
       "      <th>prediction</th>\n",
       "    </tr>\n",
       "  </thead>\n",
       "  <tbody>\n",
       "    <tr>\n",
       "      <th>0</th>\n",
       "      <td>0.0</td>\n",
       "      <td>0.0</td>\n",
       "      <td>0.0</td>\n",
       "      <td>0.0</td>\n",
       "      <td>0.0</td>\n",
       "      <td>0.0</td>\n",
       "      <td>0.0</td>\n",
       "      <td>0.0</td>\n",
       "      <td>0.0</td>\n",
       "      <td>0.0</td>\n",
       "      <td>...</td>\n",
       "      <td>0.0</td>\n",
       "      <td>0.0</td>\n",
       "      <td>0.0</td>\n",
       "      <td>0.0</td>\n",
       "      <td>0.0</td>\n",
       "      <td>0.0</td>\n",
       "      <td>0.0</td>\n",
       "      <td>0.0</td>\n",
       "      <td>0.0</td>\n",
       "      <td>6.507168</td>\n",
       "    </tr>\n",
       "    <tr>\n",
       "      <th>1</th>\n",
       "      <td>0.0</td>\n",
       "      <td>0.0</td>\n",
       "      <td>0.0</td>\n",
       "      <td>0.0</td>\n",
       "      <td>0.0</td>\n",
       "      <td>0.0</td>\n",
       "      <td>0.0</td>\n",
       "      <td>0.0</td>\n",
       "      <td>0.0</td>\n",
       "      <td>0.0</td>\n",
       "      <td>...</td>\n",
       "      <td>0.0</td>\n",
       "      <td>0.0</td>\n",
       "      <td>0.0</td>\n",
       "      <td>0.0</td>\n",
       "      <td>0.0</td>\n",
       "      <td>0.0</td>\n",
       "      <td>0.0</td>\n",
       "      <td>0.0</td>\n",
       "      <td>0.0</td>\n",
       "      <td>5.690855</td>\n",
       "    </tr>\n",
       "    <tr>\n",
       "      <th>2</th>\n",
       "      <td>0.0</td>\n",
       "      <td>0.0</td>\n",
       "      <td>0.0</td>\n",
       "      <td>0.0</td>\n",
       "      <td>0.0</td>\n",
       "      <td>0.0</td>\n",
       "      <td>0.0</td>\n",
       "      <td>0.0</td>\n",
       "      <td>0.0</td>\n",
       "      <td>0.0</td>\n",
       "      <td>...</td>\n",
       "      <td>0.0</td>\n",
       "      <td>0.0</td>\n",
       "      <td>0.0</td>\n",
       "      <td>0.0</td>\n",
       "      <td>0.0</td>\n",
       "      <td>0.0</td>\n",
       "      <td>0.0</td>\n",
       "      <td>0.0</td>\n",
       "      <td>0.0</td>\n",
       "      <td>5.468245</td>\n",
       "    </tr>\n",
       "    <tr>\n",
       "      <th>3</th>\n",
       "      <td>0.0</td>\n",
       "      <td>0.0</td>\n",
       "      <td>0.0</td>\n",
       "      <td>0.0</td>\n",
       "      <td>0.0</td>\n",
       "      <td>0.0</td>\n",
       "      <td>0.0</td>\n",
       "      <td>0.0</td>\n",
       "      <td>0.0</td>\n",
       "      <td>0.0</td>\n",
       "      <td>...</td>\n",
       "      <td>0.0</td>\n",
       "      <td>0.0</td>\n",
       "      <td>0.0</td>\n",
       "      <td>0.0</td>\n",
       "      <td>0.0</td>\n",
       "      <td>0.0</td>\n",
       "      <td>0.0</td>\n",
       "      <td>0.0</td>\n",
       "      <td>0.0</td>\n",
       "      <td>3.578399</td>\n",
       "    </tr>\n",
       "    <tr>\n",
       "      <th>4</th>\n",
       "      <td>0.0</td>\n",
       "      <td>0.0</td>\n",
       "      <td>0.0</td>\n",
       "      <td>0.0</td>\n",
       "      <td>0.0</td>\n",
       "      <td>0.0</td>\n",
       "      <td>0.0</td>\n",
       "      <td>0.0</td>\n",
       "      <td>0.0</td>\n",
       "      <td>0.0</td>\n",
       "      <td>...</td>\n",
       "      <td>0.0</td>\n",
       "      <td>0.0</td>\n",
       "      <td>0.0</td>\n",
       "      <td>0.0</td>\n",
       "      <td>0.0</td>\n",
       "      <td>0.0</td>\n",
       "      <td>0.0</td>\n",
       "      <td>0.0</td>\n",
       "      <td>0.0</td>\n",
       "      <td>3.578399</td>\n",
       "    </tr>\n",
       "  </tbody>\n",
       "</table>\n",
       "<p>5 rows × 1025 columns</p>\n",
       "</div>"
      ],
      "text/plain": [
       "     0    1    2    3    4    5    6    7    8    9  ...  1015  1016  1017  \\\n",
       "0  0.0  0.0  0.0  0.0  0.0  0.0  0.0  0.0  0.0  0.0  ...   0.0   0.0   0.0   \n",
       "1  0.0  0.0  0.0  0.0  0.0  0.0  0.0  0.0  0.0  0.0  ...   0.0   0.0   0.0   \n",
       "2  0.0  0.0  0.0  0.0  0.0  0.0  0.0  0.0  0.0  0.0  ...   0.0   0.0   0.0   \n",
       "3  0.0  0.0  0.0  0.0  0.0  0.0  0.0  0.0  0.0  0.0  ...   0.0   0.0   0.0   \n",
       "4  0.0  0.0  0.0  0.0  0.0  0.0  0.0  0.0  0.0  0.0  ...   0.0   0.0   0.0   \n",
       "\n",
       "   1018  1019  1020  1021  1022  1023  prediction  \n",
       "0   0.0   0.0   0.0   0.0   0.0   0.0    6.507168  \n",
       "1   0.0   0.0   0.0   0.0   0.0   0.0    5.690855  \n",
       "2   0.0   0.0   0.0   0.0   0.0   0.0    5.468245  \n",
       "3   0.0   0.0   0.0   0.0   0.0   0.0    3.578399  \n",
       "4   0.0   0.0   0.0   0.0   0.0   0.0    3.578399  \n",
       "\n",
       "[5 rows x 1025 columns]"
      ]
     },
     "execution_count": 9,
     "metadata": {},
     "output_type": "execute_result"
    }
   ],
   "source": [
    "reg_1=MLPRegressor()\n",
    "reg_1.fit(x,y)\n",
    "# score=cross_val_score(reg_1,x,y,cv=4)\n",
    "pred_1 = reg_1.predict(x)\n",
    "result1 = x\n",
    "\n",
    "result1['prediction'] = pred_1.tolist()\n",
    "result1.head()"
   ]
  },
  {
   "cell_type": "code",
   "execution_count": 10,
   "id": "90ebf065",
   "metadata": {},
   "outputs": [
    {
     "data": {
      "text/plain": [
       "824     6.5170\n",
       "825     6.7336\n",
       "826     6.7394\n",
       "827     6.9613\n",
       "828     6.3703\n",
       "         ...  \n",
       "4198    0.2161\n",
       "4199    0.1032\n",
       "4200    0.1771\n",
       "4201    2.2084\n",
       "4202    7.6997\n",
       "Name: value, Length: 3379, dtype: float64"
      ]
     },
     "execution_count": 10,
     "metadata": {},
     "output_type": "execute_result"
    }
   ],
   "source": [
    "y"
   ]
  },
  {
   "cell_type": "code",
   "execution_count": 11,
   "id": "440c7519",
   "metadata": {},
   "outputs": [
    {
     "name": "stdout",
     "output_type": "stream",
     "text": [
      "R^2 of Atomization energy: 0.8112457222723375\n",
      "RMSE of Atomization energy: 0.6791388180705356\n"
     ]
    }
   ],
   "source": [
    "from sklearn.metrics import r2_score,mean_absolute_error, mean_squared_error\n",
    "\n",
    "R2 =r2_score(y, pred_1)\n",
    "\n",
    "print('R^2 of Atomization energy:', R2)\n",
    "\n",
    "mse = np.sqrt(mean_squared_error(y, pred_1))\n",
    "print('RMSE of Atomization energy:', mse)"
   ]
  },
  {
   "cell_type": "code",
   "execution_count": 12,
   "id": "51078430",
   "metadata": {},
   "outputs": [
    {
     "data": {
      "image/png": "[encoded data removed]",
      "text/plain": [
       "<Figure size 432x288 with 1 Axes>"
      ]
     },
     "metadata": {
      "needs_background": "light"
     },
     "output_type": "display_data"
    }
   ],
   "source": [
    "plt.scatter(pred_1,y,c=\"r\",s=15)\n",
    "plt.plot([0,10],[0,10],\"k--\")\n",
    "plt.xlabel('Predicted EgC')\n",
    "plt.ylabel('Observed EgC')\n",
    "plt.title(\"EgC using our algorithm\");"
   ]
  },
  {
   "cell_type": "code",
   "execution_count": 13,
   "id": "3f4f7cd2",
   "metadata": {},
   "outputs": [],
   "source": [
    "from sklearn.model_selection import cross_val_score\n",
    "\n",
    "reg_2 = MLPRegressor()\n",
    "  \n",
    "reg_2.fit(x, y) \n",
    "\n",
    "scores = cross_val_score(reg_1, x, y, cv = 5, scoring = 'neg_mean_squared_error' )\n"
   ]
  },
  {
   "cell_type": "code",
   "execution_count": 14,
   "id": "3ab2c026",
   "metadata": {},
   "outputs": [
    {
     "data": {
      "text/plain": [
       "-0.622758938650944"
      ]
     },
     "execution_count": 14,
     "metadata": {},
     "output_type": "execute_result"
    }
   ],
   "source": [
    "np.mean(scores)"
   ]
  },
  {
   "cell_type": "code",
   "execution_count": 15,
   "id": "de911901",
   "metadata": {},
   "outputs": [],
   "source": [
    "reg= MLPRegressor()\n",
    "\n",
    "param_grid = {\n",
    "    'hidden_layer_sizes': [(60), (80,)],\n",
    "    'max_iter': [200, 400],\n",
    "}"
   ]
  },
  {
   "cell_type": "code",
   "execution_count": 16,
   "id": "68552d90",
   "metadata": {},
   "outputs": [
    {
     "name": "stdout",
     "output_type": "stream",
     "text": [
      "{'hidden_layer_sizes': 60, 'max_iter': 200}\n"
     ]
    }
   ],
   "source": [
    "grid = GridSearchCV(reg, param_grid, n_jobs= -1, cv=5)\n",
    "grid.fit(x,y)\n",
    "\n",
    "print(grid.best_params_)"
   ]
  },
  {
   "cell_type": "code",
   "execution_count": 17,
   "id": "e6884f4b",
   "metadata": {},
   "outputs": [
    {
     "name": "stdout",
     "output_type": "stream",
     "text": [
      "MSE of Atomization energy: 0.6404724242814646\n"
     ]
    }
   ],
   "source": [
    "reg2 = MLPRegressor(hidden_layer_sizes= (20), max_iter= 200)\n",
    "\n",
    "X_train1, X_test1, y_train1, y_test1 = train_test_split(x,y,test_size=0.3)\n",
    "  \n",
    "reg2.fit(X_train1, y_train1) \n",
    "\n",
    "\n",
    "predictions2 = reg2.predict(X_test1)\n",
    "\n",
    "Rmse = np.sqrt(mean_squared_error(y_test1, predictions2))\n",
    "print('MSE of Atomization energy:', Rmse)"
   ]
  },
  {
   "cell_type": "code",
   "execution_count": 18,
   "id": "3f7e8fab",
   "metadata": {},
   "outputs": [
    {
     "data": {
      "image/png": "[encoded data removed]",
      "text/plain": [
       "<Figure size 432x288 with 1 Axes>"
      ]
     },
     "metadata": {
      "needs_background": "light"
     },
     "output_type": "display_data"
    }
   ],
   "source": [
    "plt.scatter(predictions2,y_test1,c=\"r\",s=15)\n",
    "plt.plot([0,10],[0,10],\"k--\")\n",
    "plt.xlabel('Predicted EgC')\n",
    "plt.ylabel('Observed EgC')\n",
    "plt.title(\"EgC using our algorithm\");"
   ]
  }
 ],
 "metadata": {
  "kernelspec": {
   "display_name": "Python 3 (ipykernel)",
   "language": "python",
   "name": "python3"
  },
  "language_info": {
   "codemirror_mode": {
    "name": "ipython",
    "version": 3
   },
   "file_extension": ".py",
   "mimetype": "text/x-python",
   "name": "python",
   "nbconvert_exporter": "python",
   "pygments_lexer": "ipython3",
   "version": "3.9.12"
  }
 },
 "nbformat": 4,
 "nbformat_minor": 5
}
